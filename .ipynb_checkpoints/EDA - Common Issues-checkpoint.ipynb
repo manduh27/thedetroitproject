{
 "cells": [
  {
   "cell_type": "code",
   "execution_count": 1,
   "id": "266d4343",
   "metadata": {},
   "outputs": [],
   "source": [
    "import pandas as pd\n",
    "import numpy as np\n",
    "import matplotlib.pyplot as plt"
   ]
  },
  {
   "cell_type": "code",
   "execution_count": 2,
   "id": "4d77dad5",
   "metadata": {},
   "outputs": [
    {
     "name": "stderr",
     "output_type": "stream",
     "text": [
      "/Library/Frameworks/Python.framework/Versions/3.7/lib/python3.7/site-packages/IPython/core/interactiveshell.py:3457: DtypeWarning: Columns (17) have mixed types.Specify dtype option on import or set low_memory=False.\n",
      "  exec(code_obj, self.user_global_ns, self.user_ns)\n"
     ]
    }
   ],
   "source": [
    "df = pd.read_csv('no_dup_data.csv')"
   ]
  },
  {
   "cell_type": "code",
   "execution_count": 3,
   "id": "5bfe7784",
   "metadata": {},
   "outputs": [
    {
     "data": {
      "text/plain": [
       "(318592, 20)"
      ]
     },
     "execution_count": 3,
     "metadata": {},
     "output_type": "execute_result"
    }
   ],
   "source": [
    "df.shape"
   ]
  },
  {
   "cell_type": "code",
   "execution_count": 4,
   "id": "c8037ae4",
   "metadata": {},
   "outputs": [
    {
     "data": {
      "text/html": [
       "<div>\n",
       "<style scoped>\n",
       "    .dataframe tbody tr th:only-of-type {\n",
       "        vertical-align: middle;\n",
       "    }\n",
       "\n",
       "    .dataframe tbody tr th {\n",
       "        vertical-align: top;\n",
       "    }\n",
       "\n",
       "    .dataframe thead th {\n",
       "        text-align: right;\n",
       "    }\n",
       "</style>\n",
       "<table border=\"1\" class=\"dataframe\">\n",
       "  <thead>\n",
       "    <tr style=\"text-align: right;\">\n",
       "      <th></th>\n",
       "      <th>X</th>\n",
       "      <th>Y</th>\n",
       "      <th>id</th>\n",
       "      <th>status</th>\n",
       "      <th>request_type_title</th>\n",
       "      <th>description</th>\n",
       "      <th>web_url</th>\n",
       "      <th>report_method</th>\n",
       "      <th>priority_code</th>\n",
       "      <th>created_at</th>\n",
       "      <th>acknowledged_at</th>\n",
       "      <th>closed_at</th>\n",
       "      <th>reopened_at</th>\n",
       "      <th>updated_at</th>\n",
       "      <th>days_to_close</th>\n",
       "      <th>canonical_issue_id</th>\n",
       "      <th>address</th>\n",
       "      <th>neighborhood</th>\n",
       "      <th>council_district</th>\n",
       "      <th>oid</th>\n",
       "    </tr>\n",
       "  </thead>\n",
       "  <tbody>\n",
       "    <tr>\n",
       "      <th>0</th>\n",
       "      <td>NaN</td>\n",
       "      <td>NaN</td>\n",
       "      <td>10014644</td>\n",
       "      <td>Open</td>\n",
       "      <td>Abandoned Vehicle</td>\n",
       "      <td>Redacted</td>\n",
       "      <td>https://seeclickfix.com/issues/10014644</td>\n",
       "      <td>direct</td>\n",
       "      <td>2</td>\n",
       "      <td>2021/05/28 04:12:07+00</td>\n",
       "      <td>NaN</td>\n",
       "      <td>NaN</td>\n",
       "      <td>NaN</td>\n",
       "      <td>2021/05/28 04:12:07+00</td>\n",
       "      <td>NaN</td>\n",
       "      <td>NaN</td>\n",
       "      <td>Redacted</td>\n",
       "      <td>NaN</td>\n",
       "      <td>NaN</td>\n",
       "      <td>1</td>\n",
       "    </tr>\n",
       "    <tr>\n",
       "      <th>1</th>\n",
       "      <td>-83.039212</td>\n",
       "      <td>42.386152</td>\n",
       "      <td>10014457</td>\n",
       "      <td>Open</td>\n",
       "      <td>Street Light Out</td>\n",
       "      <td>street lights are dim / the yellow defective k...</td>\n",
       "      <td>https://seeclickfix.com/issues/10014457</td>\n",
       "      <td>direct</td>\n",
       "      <td>2</td>\n",
       "      <td>2021/05/28 03:35:08+00</td>\n",
       "      <td>NaN</td>\n",
       "      <td>NaN</td>\n",
       "      <td>NaN</td>\n",
       "      <td>2021/05/28 03:35:09+00</td>\n",
       "      <td>NaN</td>\n",
       "      <td>NaN</td>\n",
       "      <td>5555 Conant St Detroit, MI 48211, USA</td>\n",
       "      <td>NaN</td>\n",
       "      <td>NaN</td>\n",
       "      <td>42</td>\n",
       "    </tr>\n",
       "    <tr>\n",
       "      <th>2</th>\n",
       "      <td>-83.058072</td>\n",
       "      <td>42.342364</td>\n",
       "      <td>10014199</td>\n",
       "      <td>Open</td>\n",
       "      <td>Potholes</td>\n",
       "      <td>Pothole</td>\n",
       "      <td>https://seeclickfix.com/issues/10014199</td>\n",
       "      <td>direct</td>\n",
       "      <td>2</td>\n",
       "      <td>2021/05/28 02:23:44+00</td>\n",
       "      <td>NaN</td>\n",
       "      <td>NaN</td>\n",
       "      <td>NaN</td>\n",
       "      <td>2021/05/28 02:23:52+00</td>\n",
       "      <td>NaN</td>\n",
       "      <td>NaN</td>\n",
       "      <td>2906 Cass Ave Detroit MI 48201, United States</td>\n",
       "      <td>NaN</td>\n",
       "      <td>NaN</td>\n",
       "      <td>83</td>\n",
       "    </tr>\n",
       "    <tr>\n",
       "      <th>3</th>\n",
       "      <td>-83.204602</td>\n",
       "      <td>42.348446</td>\n",
       "      <td>10014182</td>\n",
       "      <td>Open</td>\n",
       "      <td>Vacant Lot Cutting</td>\n",
       "      <td>I asked needs to be cut is very long</td>\n",
       "      <td>https://seeclickfix.com/issues/10014182</td>\n",
       "      <td>direct</td>\n",
       "      <td>2</td>\n",
       "      <td>2021/05/28 02:13:42+00</td>\n",
       "      <td>NaN</td>\n",
       "      <td>NaN</td>\n",
       "      <td>NaN</td>\n",
       "      <td>2021/05/28 02:14:39+00</td>\n",
       "      <td>NaN</td>\n",
       "      <td>NaN</td>\n",
       "      <td>7700 Mettetal St Detroit, MI, 48228, USA</td>\n",
       "      <td>NaN</td>\n",
       "      <td>NaN</td>\n",
       "      <td>124</td>\n",
       "    </tr>\n",
       "    <tr>\n",
       "      <th>4</th>\n",
       "      <td>-83.260260</td>\n",
       "      <td>42.412897</td>\n",
       "      <td>10014396</td>\n",
       "      <td>Acknowledged</td>\n",
       "      <td>Investigate Running Water Vacant Property</td>\n",
       "      <td>This request was submitted to the Detroit Wate...</td>\n",
       "      <td>https://seeclickfix.com/issues/10014396</td>\n",
       "      <td>direct</td>\n",
       "      <td>2</td>\n",
       "      <td>2021/05/28 02:13:39+00</td>\n",
       "      <td>2021/05/28 03:07:35+00</td>\n",
       "      <td>NaN</td>\n",
       "      <td>NaN</td>\n",
       "      <td>2021/05/28 03:07:35+00</td>\n",
       "      <td>NaN</td>\n",
       "      <td>NaN</td>\n",
       "      <td>22244 Grove St Detroit 48219</td>\n",
       "      <td>NaN</td>\n",
       "      <td>NaN</td>\n",
       "      <td>165</td>\n",
       "    </tr>\n",
       "  </tbody>\n",
       "</table>\n",
       "</div>"
      ],
      "text/plain": [
       "           X          Y        id        status  \\\n",
       "0        NaN        NaN  10014644          Open   \n",
       "1 -83.039212  42.386152  10014457          Open   \n",
       "2 -83.058072  42.342364  10014199          Open   \n",
       "3 -83.204602  42.348446  10014182          Open   \n",
       "4 -83.260260  42.412897  10014396  Acknowledged   \n",
       "\n",
       "                          request_type_title  \\\n",
       "0                          Abandoned Vehicle   \n",
       "1                           Street Light Out   \n",
       "2                                   Potholes   \n",
       "3                         Vacant Lot Cutting   \n",
       "4  Investigate Running Water Vacant Property   \n",
       "\n",
       "                                         description  \\\n",
       "0                                           Redacted   \n",
       "1  street lights are dim / the yellow defective k...   \n",
       "2                                            Pothole   \n",
       "3              I asked needs to be cut is very long    \n",
       "4  This request was submitted to the Detroit Wate...   \n",
       "\n",
       "                                   web_url report_method  priority_code  \\\n",
       "0  https://seeclickfix.com/issues/10014644        direct              2   \n",
       "1  https://seeclickfix.com/issues/10014457        direct              2   \n",
       "2  https://seeclickfix.com/issues/10014199        direct              2   \n",
       "3  https://seeclickfix.com/issues/10014182        direct              2   \n",
       "4  https://seeclickfix.com/issues/10014396        direct              2   \n",
       "\n",
       "               created_at         acknowledged_at closed_at reopened_at  \\\n",
       "0  2021/05/28 04:12:07+00                     NaN       NaN         NaN   \n",
       "1  2021/05/28 03:35:08+00                     NaN       NaN         NaN   \n",
       "2  2021/05/28 02:23:44+00                     NaN       NaN         NaN   \n",
       "3  2021/05/28 02:13:42+00                     NaN       NaN         NaN   \n",
       "4  2021/05/28 02:13:39+00  2021/05/28 03:07:35+00       NaN         NaN   \n",
       "\n",
       "               updated_at  days_to_close  canonical_issue_id  \\\n",
       "0  2021/05/28 04:12:07+00            NaN                 NaN   \n",
       "1  2021/05/28 03:35:09+00            NaN                 NaN   \n",
       "2  2021/05/28 02:23:52+00            NaN                 NaN   \n",
       "3  2021/05/28 02:14:39+00            NaN                 NaN   \n",
       "4  2021/05/28 03:07:35+00            NaN                 NaN   \n",
       "\n",
       "                                         address neighborhood  \\\n",
       "0                                       Redacted          NaN   \n",
       "1          5555 Conant St Detroit, MI 48211, USA          NaN   \n",
       "2  2906 Cass Ave Detroit MI 48201, United States          NaN   \n",
       "3       7700 Mettetal St Detroit, MI, 48228, USA          NaN   \n",
       "4                   22244 Grove St Detroit 48219          NaN   \n",
       "\n",
       "   council_district  oid  \n",
       "0               NaN    1  \n",
       "1               NaN   42  \n",
       "2               NaN   83  \n",
       "3               NaN  124  \n",
       "4               NaN  165  "
      ]
     },
     "execution_count": 4,
     "metadata": {},
     "output_type": "execute_result"
    }
   ],
   "source": [
    "df.head()"
   ]
  },
  {
   "cell_type": "code",
   "execution_count": 5,
   "id": "2d9e3e43",
   "metadata": {},
   "outputs": [
    {
     "data": {
      "text/plain": [
       "Index(['X', 'Y', 'id', 'status', 'request_type_title', 'description',\n",
       "       'web_url', 'report_method', 'priority_code', 'created_at',\n",
       "       'acknowledged_at', 'closed_at', 'reopened_at', 'updated_at',\n",
       "       'days_to_close', 'canonical_issue_id', 'address', 'neighborhood',\n",
       "       'council_district', 'oid'],\n",
       "      dtype='object')"
      ]
     },
     "execution_count": 5,
     "metadata": {},
     "output_type": "execute_result"
    }
   ],
   "source": [
    "df.columns"
   ]
  },
  {
   "cell_type": "code",
   "execution_count": 6,
   "id": "f47e9b55",
   "metadata": {},
   "outputs": [],
   "source": [
    "df.rename({\"request_type_title\" : \"issue_type\", \n",
    "           \"web_url\" : \"url\"}, axis=1,inplace=True)"
   ]
  },
  {
   "cell_type": "code",
   "execution_count": 7,
   "id": "4ce062a8",
   "metadata": {
    "scrolled": true
   },
   "outputs": [
    {
     "data": {
      "text/plain": [
       "Index(['X', 'Y', 'id', 'status', 'issue_type', 'description', 'url',\n",
       "       'report_method', 'priority_code', 'created_at', 'acknowledged_at',\n",
       "       'closed_at', 'reopened_at', 'updated_at', 'days_to_close',\n",
       "       'canonical_issue_id', 'address', 'neighborhood', 'council_district',\n",
       "       'oid'],\n",
       "      dtype='object')"
      ]
     },
     "execution_count": 7,
     "metadata": {},
     "output_type": "execute_result"
    }
   ],
   "source": [
    "df.columns"
   ]
  },
  {
   "cell_type": "code",
   "execution_count": 8,
   "id": "a32aa035",
   "metadata": {},
   "outputs": [],
   "source": [
    "data = df[[\"issue_type\", \"created_at\"]].copy()"
   ]
  },
  {
   "cell_type": "code",
   "execution_count": 9,
   "id": "54a86422",
   "metadata": {},
   "outputs": [
    {
     "data": {
      "text/html": [
       "<div>\n",
       "<style scoped>\n",
       "    .dataframe tbody tr th:only-of-type {\n",
       "        vertical-align: middle;\n",
       "    }\n",
       "\n",
       "    .dataframe tbody tr th {\n",
       "        vertical-align: top;\n",
       "    }\n",
       "\n",
       "    .dataframe thead th {\n",
       "        text-align: right;\n",
       "    }\n",
       "</style>\n",
       "<table border=\"1\" class=\"dataframe\">\n",
       "  <thead>\n",
       "    <tr style=\"text-align: right;\">\n",
       "      <th></th>\n",
       "      <th>issue_type</th>\n",
       "      <th>created_at</th>\n",
       "    </tr>\n",
       "  </thead>\n",
       "  <tbody>\n",
       "    <tr>\n",
       "      <th>0</th>\n",
       "      <td>Abandoned Vehicle</td>\n",
       "      <td>2021/05/28 04:12:07+00</td>\n",
       "    </tr>\n",
       "    <tr>\n",
       "      <th>1</th>\n",
       "      <td>Street Light Out</td>\n",
       "      <td>2021/05/28 03:35:08+00</td>\n",
       "    </tr>\n",
       "    <tr>\n",
       "      <th>2</th>\n",
       "      <td>Potholes</td>\n",
       "      <td>2021/05/28 02:23:44+00</td>\n",
       "    </tr>\n",
       "    <tr>\n",
       "      <th>3</th>\n",
       "      <td>Vacant Lot Cutting</td>\n",
       "      <td>2021/05/28 02:13:42+00</td>\n",
       "    </tr>\n",
       "    <tr>\n",
       "      <th>4</th>\n",
       "      <td>Investigate Running Water Vacant Property</td>\n",
       "      <td>2021/05/28 02:13:39+00</td>\n",
       "    </tr>\n",
       "  </tbody>\n",
       "</table>\n",
       "</div>"
      ],
      "text/plain": [
       "                                  issue_type              created_at\n",
       "0                          Abandoned Vehicle  2021/05/28 04:12:07+00\n",
       "1                           Street Light Out  2021/05/28 03:35:08+00\n",
       "2                                   Potholes  2021/05/28 02:23:44+00\n",
       "3                         Vacant Lot Cutting  2021/05/28 02:13:42+00\n",
       "4  Investigate Running Water Vacant Property  2021/05/28 02:13:39+00"
      ]
     },
     "execution_count": 9,
     "metadata": {},
     "output_type": "execute_result"
    }
   ],
   "source": [
    "data.head()"
   ]
  },
  {
   "cell_type": "code",
   "execution_count": 10,
   "id": "231fda0b",
   "metadata": {},
   "outputs": [],
   "source": [
    "create_year = []\n",
    "freq = []\n",
    "for row in range(318592):\n",
    "    val = str(data.iloc[row,1])\n",
    "    year = val[0:4]\n",
    "    create_year.append(year)\n",
    "    freq.append(1)"
   ]
  },
  {
   "cell_type": "code",
   "execution_count": 11,
   "id": "d79dfb4b",
   "metadata": {},
   "outputs": [
    {
     "data": {
      "text/html": [
       "<div>\n",
       "<style scoped>\n",
       "    .dataframe tbody tr th:only-of-type {\n",
       "        vertical-align: middle;\n",
       "    }\n",
       "\n",
       "    .dataframe tbody tr th {\n",
       "        vertical-align: top;\n",
       "    }\n",
       "\n",
       "    .dataframe thead th {\n",
       "        text-align: right;\n",
       "    }\n",
       "</style>\n",
       "<table border=\"1\" class=\"dataframe\">\n",
       "  <thead>\n",
       "    <tr style=\"text-align: right;\">\n",
       "      <th></th>\n",
       "      <th>issue_type</th>\n",
       "      <th>created_at</th>\n",
       "      <th>year_created</th>\n",
       "    </tr>\n",
       "  </thead>\n",
       "  <tbody>\n",
       "    <tr>\n",
       "      <th>0</th>\n",
       "      <td>Abandoned Vehicle</td>\n",
       "      <td>2021/05/28 04:12:07+00</td>\n",
       "      <td>2021</td>\n",
       "    </tr>\n",
       "    <tr>\n",
       "      <th>1</th>\n",
       "      <td>Street Light Out</td>\n",
       "      <td>2021/05/28 03:35:08+00</td>\n",
       "      <td>2021</td>\n",
       "    </tr>\n",
       "    <tr>\n",
       "      <th>2</th>\n",
       "      <td>Potholes</td>\n",
       "      <td>2021/05/28 02:23:44+00</td>\n",
       "      <td>2021</td>\n",
       "    </tr>\n",
       "    <tr>\n",
       "      <th>3</th>\n",
       "      <td>Vacant Lot Cutting</td>\n",
       "      <td>2021/05/28 02:13:42+00</td>\n",
       "      <td>2021</td>\n",
       "    </tr>\n",
       "    <tr>\n",
       "      <th>4</th>\n",
       "      <td>Investigate Running Water Vacant Property</td>\n",
       "      <td>2021/05/28 02:13:39+00</td>\n",
       "      <td>2021</td>\n",
       "    </tr>\n",
       "  </tbody>\n",
       "</table>\n",
       "</div>"
      ],
      "text/plain": [
       "                                  issue_type              created_at  \\\n",
       "0                          Abandoned Vehicle  2021/05/28 04:12:07+00   \n",
       "1                           Street Light Out  2021/05/28 03:35:08+00   \n",
       "2                                   Potholes  2021/05/28 02:23:44+00   \n",
       "3                         Vacant Lot Cutting  2021/05/28 02:13:42+00   \n",
       "4  Investigate Running Water Vacant Property  2021/05/28 02:13:39+00   \n",
       "\n",
       "  year_created  \n",
       "0         2021  \n",
       "1         2021  \n",
       "2         2021  \n",
       "3         2021  \n",
       "4         2021  "
      ]
     },
     "execution_count": 11,
     "metadata": {},
     "output_type": "execute_result"
    }
   ],
   "source": [
    "data[\"year_created\"] = create_year\n",
    "data.head()"
   ]
  },
  {
   "cell_type": "code",
   "execution_count": 12,
   "id": "fba05e6a",
   "metadata": {},
   "outputs": [
    {
     "data": {
      "text/plain": [
       "array(['Abandoned Vehicle', 'Street Light Out', 'Potholes',\n",
       "       'Vacant Lot Cutting', 'Investigate Running Water Vacant Property',\n",
       "       'Illegal Dump Sites', 'Curbside Solid Waste Issue',\n",
       "       'Reboard House Request', 'Park Issue', 'Tree Issue',\n",
       "       'Traffic Sign Issue', 'Illegal Dumping In Progress',\n",
       "       'Investigate Manhole Cover', 'Investigate Restoration',\n",
       "       'Investigate Service Leak', 'Traffic Signal Issue',\n",
       "       'Investigate Water Main Break', 'Investigate Cave In (Sink Hole)',\n",
       "       'Rodent Extermination', 'DPW - Debris Removal - DPW USE ONLY',\n",
       "       'Curbside - DPW ONLY', 'DPW - Other environmental - DPW USE ONLY',\n",
       "       'Investigate Blocked Basin Street',\n",
       "       'Investigate Blocked Basin Alley', 'Graffiti Abatement',\n",
       "       'Other - Referred to other City Department',\n",
       "       'Investigate Fire Hydrant Related Issues', 'Dead Animal Removal',\n",
       "       'Street Light Pole Down', 'Traffic Complaints', 'Squatters Issue',\n",
       "       'Other - Not within City jurisdiction',\n",
       "       'Investigate Missing Catch Basin Cover', 'Alley Debris – GSD ONLY',\n",
       "       'Cave-In over the Sewer', 'Cemetery Issue',\n",
       "       'Historic District Commission Approval Verification Request',\n",
       "       'Street Light / Street Light Pole Major Repair',\n",
       "       'Residential Snow Removal Issue', 'Marina Issue',\n",
       "       'Alley Grading - DPW Use Only',\n",
       "       'Other - Not within scope of City services',\n",
       "       'Squatters - Fraud Investigation', 'Illegal Signs - GSD Only',\n",
       "       'Graffiti Abatement - Major Project',\n",
       "       'Investigate Water In Basement (Basement Backup)',\n",
       "       'Rodent Extermination - BSEED Only', 'Vacant Service Leak',\n",
       "       'Blocked Catch Basin', 'Running Water in a Home or Building',\n",
       "       'Manhole Cover Issue', 'Fire Hydrant Issue', 'Water Main Break',\n",
       "       'Clogged Drain'], dtype=object)"
      ]
     },
     "execution_count": 12,
     "metadata": {},
     "output_type": "execute_result"
    }
   ],
   "source": [
    "issuetype_array = data[\"issue_type\"].unique()\n",
    "issuetype_array"
   ]
  },
  {
   "cell_type": "code",
   "execution_count": 13,
   "id": "c20cc353",
   "metadata": {},
   "outputs": [
    {
     "data": {
      "text/plain": [
       "2020    63362\n",
       "2019    59416\n",
       "2018    51178\n",
       "2017    48944\n",
       "2016    41852\n",
       "2021    28597\n",
       "2015    23754\n",
       "2014     1489\n",
       "Name: year_created, dtype: int64"
      ]
     },
     "execution_count": 13,
     "metadata": {},
     "output_type": "execute_result"
    }
   ],
   "source": [
    "data[\"year_created\"].value_counts()"
   ]
  },
  {
   "cell_type": "code",
   "execution_count": 16,
   "id": "4bf1fab8",
   "metadata": {},
   "outputs": [],
   "source": [
    "data15 = data[data[\"year_created\"] == \"2015\"]\n",
    "issue15 = data15[\"issue_type\"].value_counts()\n",
    "\n",
    "data16 = data[data[\"year_created\"] == \"2016\"]\n",
    "issue16 = data16[\"issue_type\"].value_counts()\n",
    "\n",
    "data17 = data[data[\"year_created\"] == \"2017\"]\n",
    "issue17 = data17[\"issue_type\"].value_counts()\n",
    "\n",
    "data18 = data[data[\"year_created\"] == \"2018\"]\n",
    "issue18 = data18[\"issue_type\"].value_counts()\n",
    "\n",
    "data19 = data[data[\"year_created\"] == \"2019\"]\n",
    "issue19 = data19[\"issue_type\"].value_counts()\n",
    "\n",
    "data20 = data[data[\"year_created\"] == \"2020\"]\n",
    "issue20 = data20[\"issue_type\"].value_counts()\n",
    "\n",
    "data21 = data[data[\"year_created\"] == \"2021\"]\n",
    "issue21 = data21[\"issue_type\"].value_counts()"
   ]
  },
  {
   "cell_type": "code",
   "execution_count": 17,
   "id": "684f7daa",
   "metadata": {},
   "outputs": [
    {
     "data": {
      "text/plain": [
       "Illegal Dump Sites                           4312\n",
       "Tree Issue                                   3536\n",
       "Blocked Catch Basin                          2900\n",
       "Potholes                                     2744\n",
       "Running Water in a Home or Building          2002\n",
       "Traffic Sign Issue                           1504\n",
       "DPW - Other environmental - DPW USE ONLY     1000\n",
       "Curbside Solid Waste Issue                    963\n",
       "Water Main Break                              937\n",
       "Abandoned Vehicle                             915\n",
       "Fire Hydrant Issue                            784\n",
       "DPW - Debris Removal - DPW USE ONLY           776\n",
       "Manhole Cover Issue                           621\n",
       "Traffic Signal Issue                          479\n",
       "Street Light Pole Down                        232\n",
       "Residential Snow Removal Issue                 32\n",
       "Dead Animal Removal                            12\n",
       "Other - Referred to other City Department       3\n",
       "Graffiti Abatement                              2\n",
       "Name: issue_type, dtype: int64"
      ]
     },
     "execution_count": 17,
     "metadata": {},
     "output_type": "execute_result"
    }
   ],
   "source": [
    "issue15"
   ]
  },
  {
   "cell_type": "code",
   "execution_count": 18,
   "id": "f31fa862",
   "metadata": {},
   "outputs": [
    {
     "data": {
      "text/plain": [
       "DPW - Debris Removal - DPW USE ONLY         9315\n",
       "Illegal Dump Sites                          7227\n",
       "DPW - Other environmental - DPW USE ONLY    6931\n",
       "Curbside Solid Waste Issue                  4681\n",
       "Rodent Extermination - BSEED Only           4239\n",
       "Name: issue_type, dtype: int64"
      ]
     },
     "execution_count": 18,
     "metadata": {},
     "output_type": "execute_result"
    }
   ],
   "source": [
    "issue18.head()"
   ]
  },
  {
   "cell_type": "code",
   "execution_count": 19,
   "id": "44e479e9",
   "metadata": {},
   "outputs": [
    {
     "data": {
      "text/plain": [
       "Curbside - DPW ONLY                    9527\n",
       "Illegal Dump Sites                     7197\n",
       "DPW - Debris Removal - DPW USE ONLY    6830\n",
       "Abandoned Vehicle                      6789\n",
       "Curbside Solid Waste Issue             6316\n",
       "Name: issue_type, dtype: int64"
      ]
     },
     "execution_count": 19,
     "metadata": {},
     "output_type": "execute_result"
    }
   ],
   "source": [
    "issue20.head()"
   ]
  },
  {
   "cell_type": "code",
   "execution_count": 20,
   "id": "f65faeb1",
   "metadata": {},
   "outputs": [
    {
     "data": {
      "text/plain": [
       "Street Light Pole Down                       232\n",
       "Residential Snow Removal Issue                32\n",
       "Dead Animal Removal                           12\n",
       "Other - Referred to other City Department      3\n",
       "Graffiti Abatement                             2\n",
       "Name: issue_type, dtype: int64"
      ]
     },
     "execution_count": 20,
     "metadata": {},
     "output_type": "execute_result"
    }
   ],
   "source": [
    "issue15.tail()"
   ]
  },
  {
   "cell_type": "code",
   "execution_count": 21,
   "id": "5d2ea069",
   "metadata": {},
   "outputs": [
    {
     "data": {
      "text/plain": [
       "Street Light Pole Down                       151\n",
       "Park Issue                                    16\n",
       "Other - Referred to other City Department      4\n",
       "Clogged Drain                                  1\n",
       "Other - Not within scope of City services      1\n",
       "Name: issue_type, dtype: int64"
      ]
     },
     "execution_count": 21,
     "metadata": {},
     "output_type": "execute_result"
    }
   ],
   "source": [
    "issue16.tail()"
   ]
  },
  {
   "cell_type": "code",
   "execution_count": 22,
   "id": "63d1aab4",
   "metadata": {},
   "outputs": [
    {
     "data": {
      "text/plain": [
       "Other - Not within scope of City services          8\n",
       "Squatters - Fraud Investigation                    8\n",
       "Graffiti Abatement - Major Project                 4\n",
       "Marina Issue                                       4\n",
       "Investigate Water In Basement (Basement Backup)    1\n",
       "Name: issue_type, dtype: int64"
      ]
     },
     "execution_count": 22,
     "metadata": {},
     "output_type": "execute_result"
    }
   ],
   "source": [
    "issue20.tail()"
   ]
  },
  {
   "cell_type": "code",
   "execution_count": 81,
   "id": "c99f91fe",
   "metadata": {},
   "outputs": [],
   "source": [
    "\"issue_freq_data.plot(subplots=True, lw = 5, figsize = (10,20), style='.-')\"\n",
    "import seaborn as sns\n",
    "sns.set()\n",
    "\n"
   ]
  },
  {
   "cell_type": "code",
   "execution_count": 70,
   "id": "8d16b72a",
   "metadata": {},
   "outputs": [
    {
     "data": {
      "text/plain": [
       "[1000, 7095, 5929, 6931, 7421, 5060]"
      ]
     },
     "execution_count": 70,
     "metadata": {},
     "output_type": "execute_result"
    }
   ],
   "source": [
    "years = [2015, 2016, 2017, 2018, 2019, 2020]\n",
    "value15 = 0\n",
    "if (\"DPW - Other environmental - DPW USE ONLY\" in issue15):\n",
    "    value15 = issue15[\"DPW - Other environmental - DPW USE ONLY\"]\n",
    "value16 = 0\n",
    "if (\"DPW - Other environmental - DPW USE ONLY\" in issue16):\n",
    "    value16 = issue16[\"DPW - Other environmental - DPW USE ONLY\"]\n",
    "value17 = 0\n",
    "if (\"DPW - Other environmental - DPW USE ONLY\" in issue17):\n",
    "    value17 = issue17[\"DPW - Other environmental - DPW USE ONLY\"]\n",
    "value18 = 0\n",
    "if (\"DPW - Other environmental - DPW USE ONLY\" in issue18):\n",
    "    value18 = issue18[\"DPW - Other environmental - DPW USE ONLY\"]\n",
    "value19 = 0\n",
    "if (\"DPW - Other environmental - DPW USE ONLY\" in issue19):\n",
    "    value19 = issue19[\"DPW - Other environmental - DPW USE ONLY\"]\n",
    "value20 = 0\n",
    "if (\"DPW - Other environmental - DPW USE ONLY\" in issue20):\n",
    "    value20 = issue20[\"DPW - Other environmental - DPW USE ONLY\"]\n",
    "\n",
    "\"\"\"\n",
    "value21 = 0\n",
    "if (\"DPW - Other environmental - DPW USE ONLY\" in issue21):\n",
    "    value21 = issue21[\"DPW - Other environmental - DPW USE ONLY\"]\"\"\"\n",
    "    \n",
    "DPWenvironmental = [value15, value16, value17, value18, value19, value20]\n",
    "\n"
   ]
  },
  {
   "cell_type": "code",
   "execution_count": 71,
   "id": "d85e38c7",
   "metadata": {},
   "outputs": [
    {
     "data": {
      "text/plain": [
       "[776, 7049, 9314, 9315, 9545, 6830]"
      ]
     },
     "execution_count": 71,
     "metadata": {},
     "output_type": "execute_result"
    }
   ],
   "source": [
    "years = [2015, 2016, 2017, 2018, 2019, 2020]\n",
    "value15 = 0\n",
    "if (\"DPW - Debris Removal - DPW USE ONLY\" in issue15):\n",
    "    value15 = issue15[\"DPW - Debris Removal - DPW USE ONLY\"]\n",
    "value16 = 0\n",
    "if (\"DPW - Debris Removal - DPW USE ONLY\" in issue16):\n",
    "    value16 = issue16[\"DPW - Debris Removal - DPW USE ONLY\"]\n",
    "value17 = 0\n",
    "if (\"DPW - Debris Removal - DPW USE ONLY\" in issue17):\n",
    "    value17 = issue17[\"DPW - Debris Removal - DPW USE ONLY\"]\n",
    "value18 = 0\n",
    "if (\"DPW - Debris Removal - DPW USE ONLY\" in issue18):\n",
    "    value18 = issue18[\"DPW - Debris Removal - DPW USE ONLY\"]\n",
    "value19 = 0\n",
    "if (\"DPW - Debris Removal - DPW USE ONLY\" in issue19):\n",
    "    value19 = issue19[\"DPW - Debris Removal - DPW USE ONLY\"]\n",
    "value20 = 0\n",
    "if (\"DPW - Debris Removal - DPW USE ONLY\" in issue20):\n",
    "    value20 = issue20[\"DPW - Debris Removal - DPW USE ONLY\"]\n",
    "\"\"\"value21 = 0\n",
    "if (\"DPW - Debris Removal - DPW USE ONLY\" in issue21):\n",
    "    value21 = issue21[\"DPW - Debris Removal - DPW USE ONLY\"]\"\"\"\n",
    "    \n",
    "DPWdebris = [value15, value16, value17, value18, value19, value20]\n",
    "DPWdebris"
   ]
  },
  {
   "cell_type": "code",
   "execution_count": 72,
   "id": "eef842c4",
   "metadata": {},
   "outputs": [
    {
     "data": {
      "text/plain": [
       "[0, 0, 0, 0, 450, 9527]"
      ]
     },
     "execution_count": 72,
     "metadata": {},
     "output_type": "execute_result"
    }
   ],
   "source": [
    "years = [2015, 2016, 2017, 2018, 2019, 2020]\n",
    "value15 = 0\n",
    "if (\"Curbside - DPW ONLY\" in issue15):\n",
    "    value15 = issue15[\"Curbside - DPW ONLY\"]\n",
    "value16 = 0\n",
    "if (\"Curbside - DPW ONLY\" in issue16):\n",
    "    value16 = issue16[\"Curbside - DPW ONLY\"]\n",
    "value17 = 0\n",
    "if (\"Curbside - DPW ONLY\" in issue17):\n",
    "    value17 = issue17[\"Curbside - DPW ONLY\"]\n",
    "value18 = 0\n",
    "if (\"Curbside - DPW ONLY\" in issue18):\n",
    "    value18 = issue18[\"Curbside - DPW ONLY\"]\n",
    "value19 = 0\n",
    "if (\"Curbside - DPW ONLY\" in issue19):\n",
    "    value19 = issue19[\"Curbside - DPW ONLY\"]\n",
    "value20 = 0\n",
    "if (\"Curbside - DPW ONLY\" in issue20):\n",
    "    value20 = issue20[\"Curbside - DPW ONLY\"]\n",
    "\"\"\"value21 = 0\n",
    "if (\"Curbside - DPW ONLY\" in issue21):\n",
    "    value21 = issue21[\"Curbside - DPW ONLY\"]\"\"\"\n",
    "    \n",
    "DPWcurb = [value15, value16, value17, value18, value19, value20]\n",
    "DPWcurb"
   ]
  },
  {
   "cell_type": "code",
   "execution_count": 75,
   "id": "9a0f008b",
   "metadata": {},
   "outputs": [
    {
     "data": {
      "text/plain": [
       "[0, 0, 0, 20, 43, 22]"
      ]
     },
     "execution_count": 75,
     "metadata": {},
     "output_type": "execute_result"
    }
   ],
   "source": [
    "years = [2015, 2016, 2017, 2018, 2019, 2020]\n",
    "value15 = 0\n",
    "if (\"Alley Grading - DPW Use Only\" in issue15):\n",
    "    value15 = issue15[\"Alley Grading - DPW Use Only\"]\n",
    "value16 = 0\n",
    "if (\"Alley Grading - DPW Use Only\" in issue16):\n",
    "    value16 = issue16[\"Alley Grading - DPW Use Only\"]\n",
    "value17 = 0\n",
    "if (\"Alley Grading - DPW Use Only\" in issue17):\n",
    "    value17 = issue17[\"Alley Grading - DPW Use Only\"]\n",
    "value18 = 0\n",
    "if (\"Alley Grading - DPW Use Only\" in issue18):\n",
    "    value18 = issue18[\"Alley Grading - DPW Use Only\"]\n",
    "value19 = 0\n",
    "if (\"Alley Grading - DPW Use Only\" in issue19):\n",
    "    value19 = issue19[\"Alley Grading - DPW Use Only\"]\n",
    "value20 = 0\n",
    "if (\"Alley Grading - DPW Use Only\" in issue20):\n",
    "    value20 = issue20[\"Alley Grading - DPW Use Only\"]\n",
    "value21 = 0\n",
    "if (\"Alley Grading - DPW Use Only\" in issue21):\n",
    "    value21 = issue21[\"Alley Grading - DPW Use Only\"]\n",
    "    \n",
    "DPWalley = [value15, value16, value17, value18, value19, value20]\n",
    "DPWalley"
   ]
  },
  {
   "cell_type": "code",
   "execution_count": 76,
   "id": "d5bb5a6f",
   "metadata": {},
   "outputs": [
    {
     "data": {
      "text/html": [
       "<div>\n",
       "<style scoped>\n",
       "    .dataframe tbody tr th:only-of-type {\n",
       "        vertical-align: middle;\n",
       "    }\n",
       "\n",
       "    .dataframe tbody tr th {\n",
       "        vertical-align: top;\n",
       "    }\n",
       "\n",
       "    .dataframe thead th {\n",
       "        text-align: right;\n",
       "    }\n",
       "</style>\n",
       "<table border=\"1\" class=\"dataframe\">\n",
       "  <thead>\n",
       "    <tr style=\"text-align: right;\">\n",
       "      <th></th>\n",
       "      <th>DPWenvironmental</th>\n",
       "      <th>DPWdebris</th>\n",
       "      <th>DPWcurb</th>\n",
       "      <th>DPWalley</th>\n",
       "    </tr>\n",
       "  </thead>\n",
       "  <tbody>\n",
       "    <tr>\n",
       "      <th>2015</th>\n",
       "      <td>1000</td>\n",
       "      <td>776</td>\n",
       "      <td>0</td>\n",
       "      <td>0</td>\n",
       "    </tr>\n",
       "    <tr>\n",
       "      <th>2016</th>\n",
       "      <td>7095</td>\n",
       "      <td>7049</td>\n",
       "      <td>0</td>\n",
       "      <td>0</td>\n",
       "    </tr>\n",
       "    <tr>\n",
       "      <th>2017</th>\n",
       "      <td>5929</td>\n",
       "      <td>9314</td>\n",
       "      <td>0</td>\n",
       "      <td>0</td>\n",
       "    </tr>\n",
       "    <tr>\n",
       "      <th>2018</th>\n",
       "      <td>6931</td>\n",
       "      <td>9315</td>\n",
       "      <td>0</td>\n",
       "      <td>20</td>\n",
       "    </tr>\n",
       "    <tr>\n",
       "      <th>2019</th>\n",
       "      <td>7421</td>\n",
       "      <td>9545</td>\n",
       "      <td>450</td>\n",
       "      <td>43</td>\n",
       "    </tr>\n",
       "    <tr>\n",
       "      <th>2020</th>\n",
       "      <td>5060</td>\n",
       "      <td>6830</td>\n",
       "      <td>9527</td>\n",
       "      <td>22</td>\n",
       "    </tr>\n",
       "  </tbody>\n",
       "</table>\n",
       "</div>"
      ],
      "text/plain": [
       "      DPWenvironmental  DPWdebris  DPWcurb  DPWalley\n",
       "2015              1000        776        0         0\n",
       "2016              7095       7049        0         0\n",
       "2017              5929       9314        0         0\n",
       "2018              6931       9315        0        20\n",
       "2019              7421       9545      450        43\n",
       "2020              5060       6830     9527        22"
      ]
     },
     "execution_count": 76,
     "metadata": {},
     "output_type": "execute_result"
    }
   ],
   "source": [
    "DPWdata = {'DPWenvironmental':DPWenvironmental,\n",
    "           'DPWdebris': DPWdebris,\n",
    "           'DPWcurb': DPWcurb,\n",
    "           'DPWalley': DPWalley\n",
    "       }\n",
    "\n",
    "issue_freq_data = pd.DataFrame(DPWdata, index = years)\n",
    "issue_freq_data"
   ]
  },
  {
   "cell_type": "code",
   "execution_count": 78,
   "id": "83520ae6",
   "metadata": {},
   "outputs": [
    {
     "data": {
      "text/plain": [
       "<matplotlib.legend.Legend at 0x7fa27c3bc7d0>"
      ]
     },
     "execution_count": 78,
     "metadata": {},
     "output_type": "execute_result"
    },
    {
     "data": {
      "image/png": "[encoded data removed]",
      "text/plain": [
       "<Figure size 720x720 with 1 Axes>"
      ]
     },
     "metadata": {},
     "output_type": "display_data"
    }
   ],
   "source": [
    "plt.figure(figsize=(10, 10))\n",
    "sns.lineplot(data=issue_freq_data, x=years, y=DPWdebris, linewidth=4)\n",
    "sns.lineplot(data=issue_freq_data, x=years, y=DPWenvironmental, linewidth=4)\n",
    "sns.lineplot(data=issue_freq_data, x=years, y=DPWcurb, linewidth=4)\n",
    "sns.lineplot(data=issue_freq_data, x=years, y=DPWalley, linewidth=4)\n",
    "plt.legend(labels=[\"Debris Removal\",\"Environmental\", \"Curbside\", \"Alley Grading\"])"
   ]
  },
  {
   "cell_type": "code",
   "execution_count": 82,
   "id": "5f93d16a",
   "metadata": {},
   "outputs": [
    {
     "data": {
      "text/plain": [
       "[4312, 4262, 5253, 7227, 7619, 7197]"
      ]
     },
     "execution_count": 82,
     "metadata": {},
     "output_type": "execute_result"
    }
   ],
   "source": [
    "years = [2015, 2016, 2017, 2018, 2019, 2020]\n",
    "value15 = 0\n",
    "if (\"Illegal Dump Sites\" in issue15):\n",
    "    value15 = issue15[\"Illegal Dump Sites\"]\n",
    "value16 = 0\n",
    "if (\"Illegal Dump Sites\" in issue16):\n",
    "    value16 = issue16[\"Illegal Dump Sites\"]\n",
    "value17 = 0\n",
    "if (\"Illegal Dump Sites\" in issue17):\n",
    "    value17 = issue17[\"Illegal Dump Sites\"]\n",
    "value18 = 0\n",
    "if (\"Illegal Dump Sites\" in issue18):\n",
    "    value18 = issue18[\"Illegal Dump Sites\"]\n",
    "value19 = 0\n",
    "if (\"Illegal Dump Sites\" in issue19):\n",
    "    value19 = issue19[\"Illegal Dump Sites\"]\n",
    "value20 = 0\n",
    "if (\"Illegal Dump Sites\" in issue20):\n",
    "    value20 = issue20[\"Illegal Dump Sites\"]\n",
    "\"\"\"value21 = 0\n",
    "if (\"Curbside - DPW ONLY\" in issue21):\n",
    "    value21 = issue21[\"Curbside - DPW ONLY\"]\"\"\"\n",
    "    \n",
    "dumpsite = [value15, value16, value17, value18, value19, value20]\n",
    "dumpsite"
   ]
  },
  {
   "cell_type": "code",
   "execution_count": 83,
   "id": "125c3b43",
   "metadata": {},
   "outputs": [
    {
     "data": {
      "text/plain": [
       "[915, 2551, 3377, 3271, 5455, 6789]"
      ]
     },
     "execution_count": 83,
     "metadata": {},
     "output_type": "execute_result"
    }
   ],
   "source": [
    "years = [2015, 2016, 2017, 2018, 2019, 2020]\n",
    "value15 = 0\n",
    "if (\"Abandoned Vehicle\" in issue15):\n",
    "    value15 = issue15[\"Abandoned Vehicle\"]\n",
    "value16 = 0\n",
    "if (\"Abandoned Vehicle\" in issue16):\n",
    "    value16 = issue16[\"Abandoned Vehicle\"]\n",
    "value17 = 0\n",
    "if (\"Abandoned Vehicle\" in issue17):\n",
    "    value17 = issue17[\"Abandoned Vehicle\"]\n",
    "value18 = 0\n",
    "if (\"Abandoned Vehicle\" in issue18):\n",
    "    value18 = issue18[\"Abandoned Vehicle\"]\n",
    "value19 = 0\n",
    "if (\"Abandoned Vehicle\" in issue19):\n",
    "    value19 = issue19[\"Abandoned Vehicle\"]\n",
    "value20 = 0\n",
    "if (\"Abandoned Vehicle\" in issue20):\n",
    "    value20 = issue20[\"Abandoned Vehicle\"]\n",
    "\"\"\"value21 = 0\n",
    "if (\"Curbside - DPW ONLY\" in issue21):\n",
    "    value21 = issue21[\"Curbside - DPW ONLY\"]\"\"\"\n",
    "    \n",
    "abvehicle = [value15, value16, value17, value18, value19, value20]\n",
    "abvehicle"
   ]
  },
  {
   "cell_type": "code",
   "execution_count": 84,
   "id": "f774f06d",
   "metadata": {},
   "outputs": [
    {
     "data": {
      "text/plain": [
       "[963, 5882, 5317, 4681, 7776, 6316]"
      ]
     },
     "execution_count": 84,
     "metadata": {},
     "output_type": "execute_result"
    }
   ],
   "source": [
    "years = [2015, 2016, 2017, 2018, 2019, 2020]\n",
    "value15 = 0\n",
    "if (\"Curbside Solid Waste Issue\" in issue15):\n",
    "    value15 = issue15[\"Curbside Solid Waste Issue\"]\n",
    "value16 = 0\n",
    "if (\"Curbside Solid Waste Issue\" in issue16):\n",
    "    value16 = issue16[\"Curbside Solid Waste Issue\"]\n",
    "value17 = 0\n",
    "if (\"Curbside Solid Waste Issue\" in issue17):\n",
    "    value17 = issue17[\"Curbside Solid Waste Issue\"]\n",
    "value18 = 0\n",
    "if (\"Curbside Solid Waste Issue\" in issue18):\n",
    "    value18 = issue18[\"Curbside Solid Waste Issue\"]\n",
    "value19 = 0\n",
    "if (\"Curbside Solid Waste Issue\" in issue19):\n",
    "    value19 = issue19[\"Curbside Solid Waste Issue\"]\n",
    "value20 = 0\n",
    "if (\"Curbside Solid Waste Issue\" in issue20):\n",
    "    value20 = issue20[\"Curbside Solid Waste Issue\"]\n",
    "\"\"\"value21 = 0\n",
    "if (\"Curbside - DPW ONLY\" in issue21):\n",
    "    value21 = issue21[\"Curbside - DPW ONLY\"]\"\"\"\n",
    "    \n",
    "curbwaste = [value15, value16, value17, value18, value19, value20]\n",
    "curbwaste"
   ]
  },
  {
   "cell_type": "code",
   "execution_count": 92,
   "id": "c85592e8",
   "metadata": {},
   "outputs": [
    {
     "data": {
      "text/plain": [
       "<matplotlib.legend.Legend at 0x7fa2879e4ed0>"
      ]
     },
     "execution_count": 92,
     "metadata": {},
     "output_type": "execute_result"
    },
    {
     "data": {
      "image/png": "[encoded data removed]",
      "text/plain": [
       "<Figure size 720x720 with 1 Axes>"
      ]
     },
     "metadata": {},
     "output_type": "display_data"
    }
   ],
   "source": [
    "plt.figure(figsize=(10, 10))\n",
    "sns.lineplot(data=issue_freq_data, x=years, y=DPWcurb, linewidth=4)\n",
    "sns.lineplot(data=issue_freq_data, x=years, y=dumpsite, linewidth=4)\n",
    "sns.lineplot(data=issue_freq_data, x=years, y=DPWdebris, linewidth=4)\n",
    "sns.lineplot(data=issue_freq_data, x=years, y=abvehicle, linewidth=4)\n",
    "sns.lineplot(data=issue_freq_data, x=years, y=curbwaste, linewidth=4)\n",
    "plt.legend(labels=[\"DPW Curbside\",\"Illegal Dump Site\", \"DPW Debris Removal\", \"Abandoned Vehicle\", \"Curbside Solid Waste Issue\"])"
   ]
  },
  {
   "cell_type": "code",
   "execution_count": null,
   "id": "ecc8d850",
   "metadata": {},
   "outputs": [],
   "source": []
  }
 ],
 "metadata": {
  "kernelspec": {
   "display_name": "Python 3 (ipykernel)",
   "language": "python",
   "name": "python3"
  },
  "language_info": {
   "codemirror_mode": {
    "name": "ipython",
    "version": 3
   },
   "file_extension": ".py",
   "mimetype": "text/x-python",
   "name": "python",
   "nbconvert_exporter": "python",
   "pygments_lexer": "ipython3",
   "version": "3.7.4"
  }
 },
 "nbformat": 4,
 "nbformat_minor": 5
}
